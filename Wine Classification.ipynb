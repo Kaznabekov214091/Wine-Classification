{
 "cells": [
  {
   "cell_type": "code",
   "execution_count": 65,
   "id": "0afd4162",
   "metadata": {},
   "outputs": [],
   "source": [
    "import pandas as pd\n",
    "import numpy as np\n",
    "import seaborn as sns\n",
    "import matplotlib.pyplot as plt\n",
    "%matplotlib inline"
   ]
  },
  {
   "cell_type": "code",
   "execution_count": 66,
   "id": "ede9190d",
   "metadata": {},
   "outputs": [
    {
     "data": {
      "text/html": [
       "<div>\n",
       "<style scoped>\n",
       "    .dataframe tbody tr th:only-of-type {\n",
       "        vertical-align: middle;\n",
       "    }\n",
       "\n",
       "    .dataframe tbody tr th {\n",
       "        vertical-align: top;\n",
       "    }\n",
       "\n",
       "    .dataframe thead th {\n",
       "        text-align: right;\n",
       "    }\n",
       "</style>\n",
       "<table border=\"1\" class=\"dataframe\">\n",
       "  <thead>\n",
       "    <tr style=\"text-align: right;\">\n",
       "      <th></th>\n",
       "      <th>type</th>\n",
       "      <th>fixed acidity</th>\n",
       "      <th>volatile acidity</th>\n",
       "      <th>citric acid</th>\n",
       "      <th>residual sugar</th>\n",
       "      <th>chlorides</th>\n",
       "      <th>free sulfur dioxide</th>\n",
       "      <th>total sulfur dioxide</th>\n",
       "      <th>density</th>\n",
       "      <th>pH</th>\n",
       "      <th>sulphates</th>\n",
       "      <th>alcohol</th>\n",
       "      <th>quality</th>\n",
       "    </tr>\n",
       "  </thead>\n",
       "  <tbody>\n",
       "    <tr>\n",
       "      <th>0</th>\n",
       "      <td>white</td>\n",
       "      <td>7.0</td>\n",
       "      <td>0.27</td>\n",
       "      <td>0.36</td>\n",
       "      <td>20.7</td>\n",
       "      <td>0.045</td>\n",
       "      <td>45.0</td>\n",
       "      <td>170.0</td>\n",
       "      <td>1.0010</td>\n",
       "      <td>3.00</td>\n",
       "      <td>0.45</td>\n",
       "      <td>8.8</td>\n",
       "      <td>6</td>\n",
       "    </tr>\n",
       "    <tr>\n",
       "      <th>1</th>\n",
       "      <td>white</td>\n",
       "      <td>6.3</td>\n",
       "      <td>0.30</td>\n",
       "      <td>0.34</td>\n",
       "      <td>1.6</td>\n",
       "      <td>0.049</td>\n",
       "      <td>14.0</td>\n",
       "      <td>132.0</td>\n",
       "      <td>0.9940</td>\n",
       "      <td>3.30</td>\n",
       "      <td>0.49</td>\n",
       "      <td>9.5</td>\n",
       "      <td>6</td>\n",
       "    </tr>\n",
       "    <tr>\n",
       "      <th>2</th>\n",
       "      <td>white</td>\n",
       "      <td>8.1</td>\n",
       "      <td>0.28</td>\n",
       "      <td>0.40</td>\n",
       "      <td>6.9</td>\n",
       "      <td>0.050</td>\n",
       "      <td>30.0</td>\n",
       "      <td>97.0</td>\n",
       "      <td>0.9951</td>\n",
       "      <td>3.26</td>\n",
       "      <td>0.44</td>\n",
       "      <td>10.1</td>\n",
       "      <td>6</td>\n",
       "    </tr>\n",
       "    <tr>\n",
       "      <th>3</th>\n",
       "      <td>white</td>\n",
       "      <td>7.2</td>\n",
       "      <td>0.23</td>\n",
       "      <td>0.32</td>\n",
       "      <td>8.5</td>\n",
       "      <td>0.058</td>\n",
       "      <td>47.0</td>\n",
       "      <td>186.0</td>\n",
       "      <td>0.9956</td>\n",
       "      <td>3.19</td>\n",
       "      <td>0.40</td>\n",
       "      <td>9.9</td>\n",
       "      <td>6</td>\n",
       "    </tr>\n",
       "    <tr>\n",
       "      <th>4</th>\n",
       "      <td>white</td>\n",
       "      <td>7.2</td>\n",
       "      <td>0.23</td>\n",
       "      <td>0.32</td>\n",
       "      <td>8.5</td>\n",
       "      <td>0.058</td>\n",
       "      <td>47.0</td>\n",
       "      <td>186.0</td>\n",
       "      <td>0.9956</td>\n",
       "      <td>3.19</td>\n",
       "      <td>0.40</td>\n",
       "      <td>9.9</td>\n",
       "      <td>6</td>\n",
       "    </tr>\n",
       "  </tbody>\n",
       "</table>\n",
       "</div>"
      ],
      "text/plain": [
       "    type  fixed acidity  volatile acidity  citric acid  residual sugar  \\\n",
       "0  white            7.0              0.27         0.36            20.7   \n",
       "1  white            6.3              0.30         0.34             1.6   \n",
       "2  white            8.1              0.28         0.40             6.9   \n",
       "3  white            7.2              0.23         0.32             8.5   \n",
       "4  white            7.2              0.23         0.32             8.5   \n",
       "\n",
       "   chlorides  free sulfur dioxide  total sulfur dioxide  density    pH  \\\n",
       "0      0.045                 45.0                 170.0   1.0010  3.00   \n",
       "1      0.049                 14.0                 132.0   0.9940  3.30   \n",
       "2      0.050                 30.0                  97.0   0.9951  3.26   \n",
       "3      0.058                 47.0                 186.0   0.9956  3.19   \n",
       "4      0.058                 47.0                 186.0   0.9956  3.19   \n",
       "\n",
       "   sulphates  alcohol  quality  \n",
       "0       0.45      8.8        6  \n",
       "1       0.49      9.5        6  \n",
       "2       0.44     10.1        6  \n",
       "3       0.40      9.9        6  \n",
       "4       0.40      9.9        6  "
      ]
     },
     "execution_count": 66,
     "metadata": {},
     "output_type": "execute_result"
    }
   ],
   "source": [
    "data=pd.read_csv('winequalityN.csv')\n",
    "data.head()"
   ]
  },
  {
   "cell_type": "code",
   "execution_count": 67,
   "id": "89d71923",
   "metadata": {},
   "outputs": [
    {
     "name": "stdout",
     "output_type": "stream",
     "text": [
      "<class 'pandas.core.frame.DataFrame'>\n",
      "RangeIndex: 6497 entries, 0 to 6496\n",
      "Data columns (total 13 columns):\n",
      " #   Column                Non-Null Count  Dtype  \n",
      "---  ------                --------------  -----  \n",
      " 0   type                  6497 non-null   object \n",
      " 1   fixed acidity         6487 non-null   float64\n",
      " 2   volatile acidity      6489 non-null   float64\n",
      " 3   citric acid           6494 non-null   float64\n",
      " 4   residual sugar        6495 non-null   float64\n",
      " 5   chlorides             6495 non-null   float64\n",
      " 6   free sulfur dioxide   6497 non-null   float64\n",
      " 7   total sulfur dioxide  6497 non-null   float64\n",
      " 8   density               6497 non-null   float64\n",
      " 9   pH                    6488 non-null   float64\n",
      " 10  sulphates             6493 non-null   float64\n",
      " 11  alcohol               6497 non-null   float64\n",
      " 12  quality               6497 non-null   int64  \n",
      "dtypes: float64(11), int64(1), object(1)\n",
      "memory usage: 660.0+ KB\n"
     ]
    }
   ],
   "source": [
    "data.info()"
   ]
  },
  {
   "cell_type": "code",
   "execution_count": 68,
   "id": "e2c4f549",
   "metadata": {},
   "outputs": [
    {
     "data": {
      "text/html": [
       "<div>\n",
       "<style scoped>\n",
       "    .dataframe tbody tr th:only-of-type {\n",
       "        vertical-align: middle;\n",
       "    }\n",
       "\n",
       "    .dataframe tbody tr th {\n",
       "        vertical-align: top;\n",
       "    }\n",
       "\n",
       "    .dataframe thead th {\n",
       "        text-align: right;\n",
       "    }\n",
       "</style>\n",
       "<table border=\"1\" class=\"dataframe\">\n",
       "  <thead>\n",
       "    <tr style=\"text-align: right;\">\n",
       "      <th></th>\n",
       "      <th>fixed acidity</th>\n",
       "      <th>volatile acidity</th>\n",
       "      <th>citric acid</th>\n",
       "      <th>residual sugar</th>\n",
       "      <th>chlorides</th>\n",
       "      <th>free sulfur dioxide</th>\n",
       "      <th>total sulfur dioxide</th>\n",
       "      <th>density</th>\n",
       "      <th>pH</th>\n",
       "      <th>sulphates</th>\n",
       "      <th>alcohol</th>\n",
       "      <th>quality</th>\n",
       "    </tr>\n",
       "  </thead>\n",
       "  <tbody>\n",
       "    <tr>\n",
       "      <th>count</th>\n",
       "      <td>6487.000000</td>\n",
       "      <td>6489.000000</td>\n",
       "      <td>6494.000000</td>\n",
       "      <td>6495.000000</td>\n",
       "      <td>6495.000000</td>\n",
       "      <td>6497.000000</td>\n",
       "      <td>6497.000000</td>\n",
       "      <td>6497.000000</td>\n",
       "      <td>6488.000000</td>\n",
       "      <td>6493.000000</td>\n",
       "      <td>6497.000000</td>\n",
       "      <td>6497.000000</td>\n",
       "    </tr>\n",
       "    <tr>\n",
       "      <th>mean</th>\n",
       "      <td>7.216579</td>\n",
       "      <td>0.339691</td>\n",
       "      <td>0.318722</td>\n",
       "      <td>5.444326</td>\n",
       "      <td>0.056042</td>\n",
       "      <td>30.525319</td>\n",
       "      <td>115.744574</td>\n",
       "      <td>0.994697</td>\n",
       "      <td>3.218395</td>\n",
       "      <td>0.531215</td>\n",
       "      <td>10.491801</td>\n",
       "      <td>5.818378</td>\n",
       "    </tr>\n",
       "    <tr>\n",
       "      <th>std</th>\n",
       "      <td>1.296750</td>\n",
       "      <td>0.164649</td>\n",
       "      <td>0.145265</td>\n",
       "      <td>4.758125</td>\n",
       "      <td>0.035036</td>\n",
       "      <td>17.749400</td>\n",
       "      <td>56.521855</td>\n",
       "      <td>0.002999</td>\n",
       "      <td>0.160748</td>\n",
       "      <td>0.148814</td>\n",
       "      <td>1.192712</td>\n",
       "      <td>0.873255</td>\n",
       "    </tr>\n",
       "    <tr>\n",
       "      <th>min</th>\n",
       "      <td>3.800000</td>\n",
       "      <td>0.080000</td>\n",
       "      <td>0.000000</td>\n",
       "      <td>0.600000</td>\n",
       "      <td>0.009000</td>\n",
       "      <td>1.000000</td>\n",
       "      <td>6.000000</td>\n",
       "      <td>0.987110</td>\n",
       "      <td>2.720000</td>\n",
       "      <td>0.220000</td>\n",
       "      <td>8.000000</td>\n",
       "      <td>3.000000</td>\n",
       "    </tr>\n",
       "    <tr>\n",
       "      <th>25%</th>\n",
       "      <td>6.400000</td>\n",
       "      <td>0.230000</td>\n",
       "      <td>0.250000</td>\n",
       "      <td>1.800000</td>\n",
       "      <td>0.038000</td>\n",
       "      <td>17.000000</td>\n",
       "      <td>77.000000</td>\n",
       "      <td>0.992340</td>\n",
       "      <td>3.110000</td>\n",
       "      <td>0.430000</td>\n",
       "      <td>9.500000</td>\n",
       "      <td>5.000000</td>\n",
       "    </tr>\n",
       "    <tr>\n",
       "      <th>50%</th>\n",
       "      <td>7.000000</td>\n",
       "      <td>0.290000</td>\n",
       "      <td>0.310000</td>\n",
       "      <td>3.000000</td>\n",
       "      <td>0.047000</td>\n",
       "      <td>29.000000</td>\n",
       "      <td>118.000000</td>\n",
       "      <td>0.994890</td>\n",
       "      <td>3.210000</td>\n",
       "      <td>0.510000</td>\n",
       "      <td>10.300000</td>\n",
       "      <td>6.000000</td>\n",
       "    </tr>\n",
       "    <tr>\n",
       "      <th>75%</th>\n",
       "      <td>7.700000</td>\n",
       "      <td>0.400000</td>\n",
       "      <td>0.390000</td>\n",
       "      <td>8.100000</td>\n",
       "      <td>0.065000</td>\n",
       "      <td>41.000000</td>\n",
       "      <td>156.000000</td>\n",
       "      <td>0.996990</td>\n",
       "      <td>3.320000</td>\n",
       "      <td>0.600000</td>\n",
       "      <td>11.300000</td>\n",
       "      <td>6.000000</td>\n",
       "    </tr>\n",
       "    <tr>\n",
       "      <th>max</th>\n",
       "      <td>15.900000</td>\n",
       "      <td>1.580000</td>\n",
       "      <td>1.660000</td>\n",
       "      <td>65.800000</td>\n",
       "      <td>0.611000</td>\n",
       "      <td>289.000000</td>\n",
       "      <td>440.000000</td>\n",
       "      <td>1.038980</td>\n",
       "      <td>4.010000</td>\n",
       "      <td>2.000000</td>\n",
       "      <td>14.900000</td>\n",
       "      <td>9.000000</td>\n",
       "    </tr>\n",
       "  </tbody>\n",
       "</table>\n",
       "</div>"
      ],
      "text/plain": [
       "       fixed acidity  volatile acidity  citric acid  residual sugar  \\\n",
       "count    6487.000000       6489.000000  6494.000000     6495.000000   \n",
       "mean        7.216579          0.339691     0.318722        5.444326   \n",
       "std         1.296750          0.164649     0.145265        4.758125   \n",
       "min         3.800000          0.080000     0.000000        0.600000   \n",
       "25%         6.400000          0.230000     0.250000        1.800000   \n",
       "50%         7.000000          0.290000     0.310000        3.000000   \n",
       "75%         7.700000          0.400000     0.390000        8.100000   \n",
       "max        15.900000          1.580000     1.660000       65.800000   \n",
       "\n",
       "         chlorides  free sulfur dioxide  total sulfur dioxide      density  \\\n",
       "count  6495.000000          6497.000000           6497.000000  6497.000000   \n",
       "mean      0.056042            30.525319            115.744574     0.994697   \n",
       "std       0.035036            17.749400             56.521855     0.002999   \n",
       "min       0.009000             1.000000              6.000000     0.987110   \n",
       "25%       0.038000            17.000000             77.000000     0.992340   \n",
       "50%       0.047000            29.000000            118.000000     0.994890   \n",
       "75%       0.065000            41.000000            156.000000     0.996990   \n",
       "max       0.611000           289.000000            440.000000     1.038980   \n",
       "\n",
       "                pH    sulphates      alcohol      quality  \n",
       "count  6488.000000  6493.000000  6497.000000  6497.000000  \n",
       "mean      3.218395     0.531215    10.491801     5.818378  \n",
       "std       0.160748     0.148814     1.192712     0.873255  \n",
       "min       2.720000     0.220000     8.000000     3.000000  \n",
       "25%       3.110000     0.430000     9.500000     5.000000  \n",
       "50%       3.210000     0.510000    10.300000     6.000000  \n",
       "75%       3.320000     0.600000    11.300000     6.000000  \n",
       "max       4.010000     2.000000    14.900000     9.000000  "
      ]
     },
     "execution_count": 68,
     "metadata": {},
     "output_type": "execute_result"
    }
   ],
   "source": [
    "data.describe()"
   ]
  },
  {
   "cell_type": "code",
   "execution_count": 69,
   "id": "3bbbba1b",
   "metadata": {},
   "outputs": [],
   "source": [
    "data['type']=data['type'].astype('category')"
   ]
  },
  {
   "cell_type": "code",
   "execution_count": 70,
   "id": "1724725e",
   "metadata": {},
   "outputs": [
    {
     "data": {
      "text/plain": [
       "type                     0\n",
       "fixed acidity           10\n",
       "volatile acidity         8\n",
       "citric acid              3\n",
       "residual sugar           2\n",
       "chlorides                2\n",
       "free sulfur dioxide      0\n",
       "total sulfur dioxide     0\n",
       "density                  0\n",
       "pH                       9\n",
       "sulphates                4\n",
       "alcohol                  0\n",
       "quality                  0\n",
       "dtype: int64"
      ]
     },
     "execution_count": 70,
     "metadata": {},
     "output_type": "execute_result"
    }
   ],
   "source": [
    "data.isna().sum()"
   ]
  },
  {
   "cell_type": "code",
   "execution_count": 71,
   "id": "19edef31",
   "metadata": {},
   "outputs": [],
   "source": [
    "data.dropna(inplace=True)"
   ]
  },
  {
   "cell_type": "code",
   "execution_count": 72,
   "id": "0c4d9f5c",
   "metadata": {},
   "outputs": [],
   "source": [
    "X=data.drop('type',axis=1)\n",
    "y=data['type']"
   ]
  },
  {
   "cell_type": "code",
   "execution_count": 73,
   "id": "df08e94c",
   "metadata": {},
   "outputs": [
    {
     "data": {
      "text/plain": [
       "<Figure size 1440x1440 with 0 Axes>"
      ]
     },
     "metadata": {},
     "output_type": "display_data"
    },
    {
     "data": {
      "image/png": "[encoded data removed]",
      "text/plain": [
       "<Figure size 864x288 with 12 Axes>"
      ]
     },
     "metadata": {
      "needs_background": "light"
     },
     "output_type": "display_data"
    }
   ],
   "source": [
    "#checking outliers of features\n",
    "plt.figure(figsize=(20,20))\n",
    "fig,ax=plt.subplots(3,4,figsize=(12,4))\n",
    "ax=ax.flatten()\n",
    "for i,col in enumerate(X.columns):\n",
    "    sns.boxplot(data=X,x=col,ax=ax[i])\n",
    "plt.tight_layout()"
   ]
  },
  {
   "cell_type": "code",
   "execution_count": 74,
   "id": "a93c9db2",
   "metadata": {},
   "outputs": [
    {
     "data": {
      "text/plain": [
       "<Figure size 1440x1440 with 0 Axes>"
      ]
     },
     "metadata": {},
     "output_type": "display_data"
    },
    {
     "data": {
      "image/png": "[encoded data removed]",
      "text/plain": [
       "<Figure size 864x576 with 12 Axes>"
      ]
     },
     "metadata": {
      "needs_background": "light"
     },
     "output_type": "display_data"
    }
   ],
   "source": [
    "# Checking the distribution of values in the feature variables\n",
    "plt.figure(figsize=(20,20))\n",
    "fig,ax=plt.subplots(3,4,figsize=(12,8))\n",
    "ax=ax.flatten()\n",
    "for i,col in enumerate(X.columns):\n",
    "    sns.histplot(data=X,x=col,ax=ax[i],kde=True)\n",
    "plt.tight_layout()"
   ]
  },
  {
   "cell_type": "code",
   "execution_count": 75,
   "id": "2f71ee16",
   "metadata": {},
   "outputs": [],
   "source": [
    "from scipy.stats import skew"
   ]
  },
  {
   "cell_type": "code",
   "execution_count": 76,
   "id": "1ea3aca9",
   "metadata": {},
   "outputs": [],
   "source": [
    "skew_df=pd.DataFrame(X.columns,columns=['Features'])\n",
    "skew_df['Skew']=skew_df['Features'].apply(lambda x:skew(X[x],bias=False))\n",
    "skew_df['Absolute Skew']=skew_df['Skew'].apply(abs)"
   ]
  },
  {
   "cell_type": "code",
   "execution_count": 77,
   "id": "59752b57",
   "metadata": {},
   "outputs": [
    {
     "data": {
      "text/html": [
       "<div>\n",
       "<style scoped>\n",
       "    .dataframe tbody tr th:only-of-type {\n",
       "        vertical-align: middle;\n",
       "    }\n",
       "\n",
       "    .dataframe tbody tr th {\n",
       "        vertical-align: top;\n",
       "    }\n",
       "\n",
       "    .dataframe thead th {\n",
       "        text-align: right;\n",
       "    }\n",
       "</style>\n",
       "<table border=\"1\" class=\"dataframe\">\n",
       "  <thead>\n",
       "    <tr style=\"text-align: right;\">\n",
       "      <th></th>\n",
       "      <th>Features</th>\n",
       "      <th>Skew</th>\n",
       "      <th>Absolute Skew</th>\n",
       "    </tr>\n",
       "  </thead>\n",
       "  <tbody>\n",
       "    <tr>\n",
       "      <th>0</th>\n",
       "      <td>fixed acidity</td>\n",
       "      <td>1.721648</td>\n",
       "      <td>1.721648</td>\n",
       "    </tr>\n",
       "    <tr>\n",
       "      <th>1</th>\n",
       "      <td>volatile acidity</td>\n",
       "      <td>1.500040</td>\n",
       "      <td>1.500040</td>\n",
       "    </tr>\n",
       "    <tr>\n",
       "      <th>2</th>\n",
       "      <td>citric acid</td>\n",
       "      <td>0.474907</td>\n",
       "      <td>0.474907</td>\n",
       "    </tr>\n",
       "    <tr>\n",
       "      <th>3</th>\n",
       "      <td>residual sugar</td>\n",
       "      <td>1.437126</td>\n",
       "      <td>1.437126</td>\n",
       "    </tr>\n",
       "    <tr>\n",
       "      <th>4</th>\n",
       "      <td>chlorides</td>\n",
       "      <td>5.403432</td>\n",
       "      <td>5.403432</td>\n",
       "    </tr>\n",
       "    <tr>\n",
       "      <th>5</th>\n",
       "      <td>free sulfur dioxide</td>\n",
       "      <td>1.223427</td>\n",
       "      <td>1.223427</td>\n",
       "    </tr>\n",
       "    <tr>\n",
       "      <th>6</th>\n",
       "      <td>total sulfur dioxide</td>\n",
       "      <td>-0.000425</td>\n",
       "      <td>0.000425</td>\n",
       "    </tr>\n",
       "    <tr>\n",
       "      <th>7</th>\n",
       "      <td>density</td>\n",
       "      <td>0.504204</td>\n",
       "      <td>0.504204</td>\n",
       "    </tr>\n",
       "    <tr>\n",
       "      <th>8</th>\n",
       "      <td>pH</td>\n",
       "      <td>0.391094</td>\n",
       "      <td>0.391094</td>\n",
       "    </tr>\n",
       "    <tr>\n",
       "      <th>9</th>\n",
       "      <td>sulphates</td>\n",
       "      <td>1.802941</td>\n",
       "      <td>1.802941</td>\n",
       "    </tr>\n",
       "    <tr>\n",
       "      <th>10</th>\n",
       "      <td>alcohol</td>\n",
       "      <td>0.565435</td>\n",
       "      <td>0.565435</td>\n",
       "    </tr>\n",
       "    <tr>\n",
       "      <th>11</th>\n",
       "      <td>quality</td>\n",
       "      <td>0.189878</td>\n",
       "      <td>0.189878</td>\n",
       "    </tr>\n",
       "  </tbody>\n",
       "</table>\n",
       "</div>"
      ],
      "text/plain": [
       "                Features      Skew  Absolute Skew\n",
       "0          fixed acidity  1.721648       1.721648\n",
       "1       volatile acidity  1.500040       1.500040\n",
       "2            citric acid  0.474907       0.474907\n",
       "3         residual sugar  1.437126       1.437126\n",
       "4              chlorides  5.403432       5.403432\n",
       "5    free sulfur dioxide  1.223427       1.223427\n",
       "6   total sulfur dioxide -0.000425       0.000425\n",
       "7                density  0.504204       0.504204\n",
       "8                     pH  0.391094       0.391094\n",
       "9              sulphates  1.802941       1.802941\n",
       "10               alcohol  0.565435       0.565435\n",
       "11               quality  0.189878       0.189878"
      ]
     },
     "execution_count": 77,
     "metadata": {},
     "output_type": "execute_result"
    }
   ],
   "source": [
    "skew_df"
   ]
  },
  {
   "cell_type": "code",
   "execution_count": 78,
   "id": "a7b93e96",
   "metadata": {},
   "outputs": [],
   "source": [
    "#remove outliers\n",
    "def remove_outliers(data,col):\n",
    "    Q1=data[col].quantile(0.25)\n",
    "    Q3=data[col].quantile(0.75)\n",
    "    IQR=Q3-Q1\n",
    "    data[col]=data[col].apply(lambda x:Q1-1.5*IQR if x<(Q1-1.5*IQR) else (Q3+1.5*IQR if x>Q3+1.5*IQR else x))\n",
    "    return data"
   ]
  },
  {
   "cell_type": "code",
   "execution_count": 79,
   "id": "ef25d9da",
   "metadata": {},
   "outputs": [],
   "source": [
    "for col in X.columns:\n",
    "    df=remove_outliers(X,col)"
   ]
  },
  {
   "cell_type": "code",
   "execution_count": 80,
   "id": "d2fd36fd",
   "metadata": {},
   "outputs": [
    {
     "data": {
      "text/plain": [
       "<AxesSubplot:>"
      ]
     },
     "execution_count": 80,
     "metadata": {},
     "output_type": "execute_result"
    },
    {
     "data": {
      "image/png": "[encoded data removed]",
      "text/plain": [
       "<Figure size 1440x1080 with 2 Axes>"
      ]
     },
     "metadata": {
      "needs_background": "light"
     },
     "output_type": "display_data"
    }
   ],
   "source": [
    "plt.figure(figsize=(20,15))\n",
    "mask=np.triu(df.corr())\n",
    "sns.heatmap(df.corr(),cmap='viridis',annot=True,mask=mask)"
   ]
  },
  {
   "cell_type": "code",
   "execution_count": 81,
   "id": "f5c5f8b3",
   "metadata": {},
   "outputs": [],
   "source": [
    "X.drop('total sulfur dioxide',axis=1,inplace=True)"
   ]
  },
  {
   "cell_type": "code",
   "execution_count": 82,
   "id": "b54ddf74",
   "metadata": {},
   "outputs": [
    {
     "data": {
      "text/plain": [
       "5.804812006807984"
      ]
     },
     "execution_count": 82,
     "metadata": {},
     "output_type": "execute_result"
    }
   ],
   "source": [
    "X['quality'].mean()"
   ]
  },
  {
   "cell_type": "code",
   "execution_count": 83,
   "id": "bccc7329",
   "metadata": {},
   "outputs": [
    {
     "data": {
      "text/html": [
       "<div>\n",
       "<style scoped>\n",
       "    .dataframe tbody tr th:only-of-type {\n",
       "        vertical-align: middle;\n",
       "    }\n",
       "\n",
       "    .dataframe tbody tr th {\n",
       "        vertical-align: top;\n",
       "    }\n",
       "\n",
       "    .dataframe thead th {\n",
       "        text-align: right;\n",
       "    }\n",
       "</style>\n",
       "<table border=\"1\" class=\"dataframe\">\n",
       "  <thead>\n",
       "    <tr style=\"text-align: right;\">\n",
       "      <th></th>\n",
       "      <th>fixed acidity</th>\n",
       "      <th>volatile acidity</th>\n",
       "      <th>citric acid</th>\n",
       "      <th>residual sugar</th>\n",
       "      <th>chlorides</th>\n",
       "      <th>free sulfur dioxide</th>\n",
       "      <th>density</th>\n",
       "      <th>pH</th>\n",
       "      <th>sulphates</th>\n",
       "      <th>alcohol</th>\n",
       "      <th>quality</th>\n",
       "      <th>best quality</th>\n",
       "    </tr>\n",
       "  </thead>\n",
       "  <tbody>\n",
       "    <tr>\n",
       "      <th>0</th>\n",
       "      <td>7.0</td>\n",
       "      <td>0.27</td>\n",
       "      <td>0.36</td>\n",
       "      <td>17.55</td>\n",
       "      <td>0.045</td>\n",
       "      <td>45.0</td>\n",
       "      <td>1.0010</td>\n",
       "      <td>3.00</td>\n",
       "      <td>0.45</td>\n",
       "      <td>8.8</td>\n",
       "      <td>6.0</td>\n",
       "      <td>1</td>\n",
       "    </tr>\n",
       "    <tr>\n",
       "      <th>1</th>\n",
       "      <td>6.3</td>\n",
       "      <td>0.30</td>\n",
       "      <td>0.34</td>\n",
       "      <td>1.60</td>\n",
       "      <td>0.049</td>\n",
       "      <td>14.0</td>\n",
       "      <td>0.9940</td>\n",
       "      <td>3.30</td>\n",
       "      <td>0.49</td>\n",
       "      <td>9.5</td>\n",
       "      <td>6.0</td>\n",
       "      <td>1</td>\n",
       "    </tr>\n",
       "    <tr>\n",
       "      <th>2</th>\n",
       "      <td>8.1</td>\n",
       "      <td>0.28</td>\n",
       "      <td>0.40</td>\n",
       "      <td>6.90</td>\n",
       "      <td>0.050</td>\n",
       "      <td>30.0</td>\n",
       "      <td>0.9951</td>\n",
       "      <td>3.26</td>\n",
       "      <td>0.44</td>\n",
       "      <td>10.1</td>\n",
       "      <td>6.0</td>\n",
       "      <td>1</td>\n",
       "    </tr>\n",
       "    <tr>\n",
       "      <th>3</th>\n",
       "      <td>7.2</td>\n",
       "      <td>0.23</td>\n",
       "      <td>0.32</td>\n",
       "      <td>8.50</td>\n",
       "      <td>0.058</td>\n",
       "      <td>47.0</td>\n",
       "      <td>0.9956</td>\n",
       "      <td>3.19</td>\n",
       "      <td>0.40</td>\n",
       "      <td>9.9</td>\n",
       "      <td>6.0</td>\n",
       "      <td>1</td>\n",
       "    </tr>\n",
       "    <tr>\n",
       "      <th>4</th>\n",
       "      <td>7.2</td>\n",
       "      <td>0.23</td>\n",
       "      <td>0.32</td>\n",
       "      <td>8.50</td>\n",
       "      <td>0.058</td>\n",
       "      <td>47.0</td>\n",
       "      <td>0.9956</td>\n",
       "      <td>3.19</td>\n",
       "      <td>0.40</td>\n",
       "      <td>9.9</td>\n",
       "      <td>6.0</td>\n",
       "      <td>1</td>\n",
       "    </tr>\n",
       "  </tbody>\n",
       "</table>\n",
       "</div>"
      ],
      "text/plain": [
       "   fixed acidity  volatile acidity  citric acid  residual sugar  chlorides  \\\n",
       "0            7.0              0.27         0.36           17.55      0.045   \n",
       "1            6.3              0.30         0.34            1.60      0.049   \n",
       "2            8.1              0.28         0.40            6.90      0.050   \n",
       "3            7.2              0.23         0.32            8.50      0.058   \n",
       "4            7.2              0.23         0.32            8.50      0.058   \n",
       "\n",
       "   free sulfur dioxide  density    pH  sulphates  alcohol  quality  \\\n",
       "0                 45.0   1.0010  3.00       0.45      8.8      6.0   \n",
       "1                 14.0   0.9940  3.30       0.49      9.5      6.0   \n",
       "2                 30.0   0.9951  3.26       0.44     10.1      6.0   \n",
       "3                 47.0   0.9956  3.19       0.40      9.9      6.0   \n",
       "4                 47.0   0.9956  3.19       0.40      9.9      6.0   \n",
       "\n",
       "   best quality  \n",
       "0             1  \n",
       "1             1  \n",
       "2             1  \n",
       "3             1  \n",
       "4             1  "
      ]
     },
     "execution_count": 83,
     "metadata": {},
     "output_type": "execute_result"
    }
   ],
   "source": [
    "X['best quality'] = X['quality'].apply(lambda x: 1 if x>=5. else 0)\n",
    "X.head()"
   ]
  },
  {
   "cell_type": "code",
   "execution_count": 89,
   "id": "ae87e715",
   "metadata": {},
   "outputs": [],
   "source": [
    "from sklearn.model_selection import train_test_split,KFold,GridSearchCV,cross_val_score\n",
    "from sklearn.linear_model import LogisticRegression\n",
    "from sklearn.svm import SVC\n",
    "from sklearn.tree import DecisionTreeClassifier\n",
    "from sklearn.ensemble import AdaBoostClassifier,RandomForestClassifier,GradientBoostingClassifier\n",
    "from sklearn.preprocessing import StandardScaler"
   ]
  },
  {
   "cell_type": "code",
   "execution_count": 90,
   "id": "62dfa29b",
   "metadata": {},
   "outputs": [
    {
     "data": {
      "text/plain": [
       "((6463, 12), (6463,))"
      ]
     },
     "execution_count": 90,
     "metadata": {},
     "output_type": "execute_result"
    }
   ],
   "source": [
    "X.shape,y.shape"
   ]
  },
  {
   "cell_type": "code",
   "execution_count": 98,
   "id": "f6daaf5b",
   "metadata": {
    "scrolled": true
   },
   "outputs": [
    {
     "name": "stdout",
     "output_type": "stream",
     "text": [
      "(4847, 12) (1616, 12) (4847,) (1616,)\n"
     ]
    }
   ],
   "source": [
    "X_train,X_test,y_train,y_test=train_test_split(X.values,y.values,test_size=0.25,random_state=123)\n",
    "print(X_train.shape,X_test.shape,y_train.shape,y_test.shape)"
   ]
  },
  {
   "cell_type": "code",
   "execution_count": 99,
   "id": "4b58decd",
   "metadata": {},
   "outputs": [],
   "source": [
    "scaler=StandardScaler()\n",
    "X_train=scaler.fit_transform(X_train)\n",
    "X_test=scaler.transform(X_test)"
   ]
  },
  {
   "cell_type": "code",
   "execution_count": 104,
   "id": "295008ac",
   "metadata": {},
   "outputs": [],
   "source": [
    "models={'Logistic':LogisticRegression(),\n",
    "       'SVC':SVC(),\n",
    "       'Dtree':DecisionTreeClassifier(),\n",
    "       'Adaboost':AdaBoostClassifier(),\n",
    "        'RandomForest':RandomForestClassifier(criterion='entropy'),\n",
    "        'Gradient':GradientBoostingClassifier()\n",
    "       }\n"
   ]
  },
  {
   "cell_type": "code",
   "execution_count": null,
   "id": "fcf9f7af",
   "metadata": {},
   "outputs": [],
   "source": []
  },
  {
   "cell_type": "code",
   "execution_count": 105,
   "id": "5fa9904c",
   "metadata": {},
   "outputs": [],
   "source": [
    "results={}\n",
    "kf=KFold(n_splits=10,shuffle=True)\n",
    "for name,model in models.items():\n",
    "    score=cross_val_score(model,X_train,y_train,cv=kf,scoring='accuracy')\n",
    "    results[name]=score"
   ]
  },
  {
   "cell_type": "code",
   "execution_count": 106,
   "id": "6f371756",
   "metadata": {
    "scrolled": true
   },
   "outputs": [
    {
     "name": "stdout",
     "output_type": "stream",
     "text": [
      "_________________\n",
      "Logistic:0.9896847576041579\n",
      "_________________\n",
      "_________________\n",
      "SVC:0.9919523728380335\n",
      "_________________\n",
      "_________________\n",
      "Dtree:0.9737914288148589\n",
      "_________________\n",
      "_________________\n",
      "Adaboost:0.987829087501065\n",
      "_________________\n",
      "_________________\n",
      "RandomForest:0.9880356990713128\n",
      "_________________\n",
      "_________________\n",
      "Gradient:0.9898900911646928\n",
      "_________________\n"
     ]
    }
   ],
   "source": [
    "for name,score in results.items():\n",
    "    print('_________________')\n",
    "    print(f\"{name}:{np.mean(score)}\")\n",
    "    print('_________________')"
   ]
  },
  {
   "cell_type": "code",
   "execution_count": 107,
   "id": "2711069c",
   "metadata": {},
   "outputs": [],
   "source": [
    "from sklearn.metrics import accuracy_score"
   ]
  },
  {
   "cell_type": "code",
   "execution_count": 108,
   "id": "d2bc39c0",
   "metadata": {},
   "outputs": [
    {
     "name": "stdout",
     "output_type": "stream",
     "text": [
      "_________________\n",
      "Logistic:0.9882425742574258\n",
      "_________________\n",
      "_________________\n",
      "SVC:0.9919554455445545\n",
      "_________________\n",
      "_________________\n",
      "Dtree:0.969059405940594\n",
      "_________________\n",
      "_________________\n",
      "Adaboost:0.9832920792079208\n",
      "_________________\n",
      "_________________\n",
      "RandomForest:0.9925742574257426\n",
      "_________________\n",
      "_________________\n",
      "Gradient:0.989480198019802\n",
      "_________________\n"
     ]
    }
   ],
   "source": [
    "for name,model in models.items():\n",
    "    model.fit(X_train,y_train)\n",
    "    y_pred=model.predict(X_test)\n",
    "    print('_________________')\n",
    "    print(f\"{name}:{accuracy_score(y_test,y_pred)}\")\n",
    "    print('_________________')"
   ]
  },
  {
   "cell_type": "code",
   "execution_count": 109,
   "id": "a3fbf898",
   "metadata": {},
   "outputs": [
    {
     "name": "stdout",
     "output_type": "stream",
     "text": [
      "Fitting 5 folds for each of 36 candidates, totalling 180 fits\n",
      "[CV] END .......................C=0.1, gamma=0.1, kernel=rbf; total time=   0.1s\n",
      "[CV] END .......................C=0.1, gamma=0.1, kernel=rbf; total time=   0.1s\n",
      "[CV] END .......................C=0.1, gamma=0.1, kernel=rbf; total time=   0.1s\n",
      "[CV] END .......................C=0.1, gamma=0.1, kernel=rbf; total time=   0.1s\n",
      "[CV] END .......................C=0.1, gamma=0.1, kernel=rbf; total time=   0.1s\n",
      "[CV] END ...................C=0.1, gamma=0.1, kernel=sigmoid; total time=   0.0s\n",
      "[CV] END ...................C=0.1, gamma=0.1, kernel=sigmoid; total time=   0.0s\n",
      "[CV] END ...................C=0.1, gamma=0.1, kernel=sigmoid; total time=   0.0s\n",
      "[CV] END ...................C=0.1, gamma=0.1, kernel=sigmoid; total time=   0.0s\n",
      "[CV] END ...................C=0.1, gamma=0.1, kernel=sigmoid; total time=   0.0s\n",
      "[CV] END ....................C=0.1, gamma=0.1, kernel=linear; total time=   0.0s\n",
      "[CV] END ....................C=0.1, gamma=0.1, kernel=linear; total time=   0.0s\n",
      "[CV] END ....................C=0.1, gamma=0.1, kernel=linear; total time=   0.0s\n",
      "[CV] END ....................C=0.1, gamma=0.1, kernel=linear; total time=   0.0s\n",
      "[CV] END ....................C=0.1, gamma=0.1, kernel=linear; total time=   0.0s\n",
      "[CV] END .......................C=0.1, gamma=0.4, kernel=rbf; total time=   0.3s\n",
      "[CV] END .......................C=0.1, gamma=0.4, kernel=rbf; total time=   0.4s\n",
      "[CV] END .......................C=0.1, gamma=0.4, kernel=rbf; total time=   0.4s\n",
      "[CV] END .......................C=0.1, gamma=0.4, kernel=rbf; total time=   0.4s\n",
      "[CV] END .......................C=0.1, gamma=0.4, kernel=rbf; total time=   0.4s\n",
      "[CV] END ...................C=0.1, gamma=0.4, kernel=sigmoid; total time=   0.1s\n",
      "[CV] END ...................C=0.1, gamma=0.4, kernel=sigmoid; total time=   0.1s\n",
      "[CV] END ...................C=0.1, gamma=0.4, kernel=sigmoid; total time=   0.1s\n",
      "[CV] END ...................C=0.1, gamma=0.4, kernel=sigmoid; total time=   0.1s\n",
      "[CV] END ...................C=0.1, gamma=0.4, kernel=sigmoid; total time=   0.1s\n",
      "[CV] END ....................C=0.1, gamma=0.4, kernel=linear; total time=   0.0s\n",
      "[CV] END ....................C=0.1, gamma=0.4, kernel=linear; total time=   0.0s\n",
      "[CV] END ....................C=0.1, gamma=0.4, kernel=linear; total time=   0.0s\n",
      "[CV] END ....................C=0.1, gamma=0.4, kernel=linear; total time=   0.0s\n",
      "[CV] END ....................C=0.1, gamma=0.4, kernel=linear; total time=   0.0s\n",
      "[CV] END .......................C=0.1, gamma=0.7, kernel=rbf; total time=   0.6s\n",
      "[CV] END .......................C=0.1, gamma=0.7, kernel=rbf; total time=   0.6s\n",
      "[CV] END .......................C=0.1, gamma=0.7, kernel=rbf; total time=   0.6s\n",
      "[CV] END .......................C=0.1, gamma=0.7, kernel=rbf; total time=   0.6s\n",
      "[CV] END .......................C=0.1, gamma=0.7, kernel=rbf; total time=   0.6s\n",
      "[CV] END ...................C=0.1, gamma=0.7, kernel=sigmoid; total time=   0.1s\n",
      "[CV] END ...................C=0.1, gamma=0.7, kernel=sigmoid; total time=   0.1s\n",
      "[CV] END ...................C=0.1, gamma=0.7, kernel=sigmoid; total time=   0.2s\n",
      "[CV] END ...................C=0.1, gamma=0.7, kernel=sigmoid; total time=   0.2s\n",
      "[CV] END ...................C=0.1, gamma=0.7, kernel=sigmoid; total time=   0.1s\n",
      "[CV] END ....................C=0.1, gamma=0.7, kernel=linear; total time=   0.0s\n",
      "[CV] END ....................C=0.1, gamma=0.7, kernel=linear; total time=   0.0s\n",
      "[CV] END ....................C=0.1, gamma=0.7, kernel=linear; total time=   0.0s\n",
      "[CV] END ....................C=0.1, gamma=0.7, kernel=linear; total time=   0.0s\n",
      "[CV] END ....................C=0.1, gamma=0.7, kernel=linear; total time=   0.0s\n",
      "[CV] END .......................C=0.1, gamma=1.0, kernel=rbf; total time=   0.8s\n",
      "[CV] END .......................C=0.1, gamma=1.0, kernel=rbf; total time=   0.9s\n",
      "[CV] END .......................C=0.1, gamma=1.0, kernel=rbf; total time=   0.9s\n",
      "[CV] END .......................C=0.1, gamma=1.0, kernel=rbf; total time=   0.8s\n",
      "[CV] END .......................C=0.1, gamma=1.0, kernel=rbf; total time=   0.7s\n",
      "[CV] END ...................C=0.1, gamma=1.0, kernel=sigmoid; total time=   0.1s\n",
      "[CV] END ...................C=0.1, gamma=1.0, kernel=sigmoid; total time=   0.1s\n",
      "[CV] END ...................C=0.1, gamma=1.0, kernel=sigmoid; total time=   0.1s\n",
      "[CV] END ...................C=0.1, gamma=1.0, kernel=sigmoid; total time=   0.1s\n",
      "[CV] END ...................C=0.1, gamma=1.0, kernel=sigmoid; total time=   0.1s\n",
      "[CV] END ....................C=0.1, gamma=1.0, kernel=linear; total time=   0.0s\n",
      "[CV] END ....................C=0.1, gamma=1.0, kernel=linear; total time=   0.0s\n",
      "[CV] END ....................C=0.1, gamma=1.0, kernel=linear; total time=   0.0s\n",
      "[CV] END ....................C=0.1, gamma=1.0, kernel=linear; total time=   0.0s\n",
      "[CV] END ....................C=0.1, gamma=1.0, kernel=linear; total time=   0.0s\n",
      "[CV] END .........................C=1, gamma=0.1, kernel=rbf; total time=   0.0s\n",
      "[CV] END .........................C=1, gamma=0.1, kernel=rbf; total time=   0.0s\n",
      "[CV] END .........................C=1, gamma=0.1, kernel=rbf; total time=   0.0s\n",
      "[CV] END .........................C=1, gamma=0.1, kernel=rbf; total time=   0.0s\n",
      "[CV] END .........................C=1, gamma=0.1, kernel=rbf; total time=   0.0s\n",
      "[CV] END .....................C=1, gamma=0.1, kernel=sigmoid; total time=   0.0s\n",
      "[CV] END .....................C=1, gamma=0.1, kernel=sigmoid; total time=   0.0s\n",
      "[CV] END .....................C=1, gamma=0.1, kernel=sigmoid; total time=   0.0s\n",
      "[CV] END .....................C=1, gamma=0.1, kernel=sigmoid; total time=   0.0s\n",
      "[CV] END .....................C=1, gamma=0.1, kernel=sigmoid; total time=   0.0s\n",
      "[CV] END ......................C=1, gamma=0.1, kernel=linear; total time=   0.0s\n",
      "[CV] END ......................C=1, gamma=0.1, kernel=linear; total time=   0.0s\n",
      "[CV] END ......................C=1, gamma=0.1, kernel=linear; total time=   0.0s\n",
      "[CV] END ......................C=1, gamma=0.1, kernel=linear; total time=   0.0s\n",
      "[CV] END ......................C=1, gamma=0.1, kernel=linear; total time=   0.0s\n",
      "[CV] END .........................C=1, gamma=0.4, kernel=rbf; total time=   0.3s\n",
      "[CV] END .........................C=1, gamma=0.4, kernel=rbf; total time=   0.2s\n",
      "[CV] END .........................C=1, gamma=0.4, kernel=rbf; total time=   0.3s\n",
      "[CV] END .........................C=1, gamma=0.4, kernel=rbf; total time=   0.2s\n",
      "[CV] END .........................C=1, gamma=0.4, kernel=rbf; total time=   0.2s\n",
      "[CV] END .....................C=1, gamma=0.4, kernel=sigmoid; total time=   0.1s\n",
      "[CV] END .....................C=1, gamma=0.4, kernel=sigmoid; total time=   0.1s\n",
      "[CV] END .....................C=1, gamma=0.4, kernel=sigmoid; total time=   0.1s\n",
      "[CV] END .....................C=1, gamma=0.4, kernel=sigmoid; total time=   0.1s\n",
      "[CV] END .....................C=1, gamma=0.4, kernel=sigmoid; total time=   0.1s\n",
      "[CV] END ......................C=1, gamma=0.4, kernel=linear; total time=   0.0s\n",
      "[CV] END ......................C=1, gamma=0.4, kernel=linear; total time=   0.0s\n",
      "[CV] END ......................C=1, gamma=0.4, kernel=linear; total time=   0.0s\n",
      "[CV] END ......................C=1, gamma=0.4, kernel=linear; total time=   0.0s\n",
      "[CV] END ......................C=1, gamma=0.4, kernel=linear; total time=   0.0s\n",
      "[CV] END .........................C=1, gamma=0.7, kernel=rbf; total time=   0.5s\n",
      "[CV] END .........................C=1, gamma=0.7, kernel=rbf; total time=   0.5s\n",
      "[CV] END .........................C=1, gamma=0.7, kernel=rbf; total time=   0.5s\n",
      "[CV] END .........................C=1, gamma=0.7, kernel=rbf; total time=   0.5s\n",
      "[CV] END .........................C=1, gamma=0.7, kernel=rbf; total time=   0.5s\n",
      "[CV] END .....................C=1, gamma=0.7, kernel=sigmoid; total time=   0.1s\n",
      "[CV] END .....................C=1, gamma=0.7, kernel=sigmoid; total time=   0.1s\n",
      "[CV] END .....................C=1, gamma=0.7, kernel=sigmoid; total time=   0.1s\n",
      "[CV] END .....................C=1, gamma=0.7, kernel=sigmoid; total time=   0.2s\n",
      "[CV] END .....................C=1, gamma=0.7, kernel=sigmoid; total time=   0.1s\n",
      "[CV] END ......................C=1, gamma=0.7, kernel=linear; total time=   0.0s\n",
      "[CV] END ......................C=1, gamma=0.7, kernel=linear; total time=   0.0s\n",
      "[CV] END ......................C=1, gamma=0.7, kernel=linear; total time=   0.0s\n",
      "[CV] END ......................C=1, gamma=0.7, kernel=linear; total time=   0.0s\n",
      "[CV] END ......................C=1, gamma=0.7, kernel=linear; total time=   0.0s\n"
     ]
    },
    {
     "name": "stdout",
     "output_type": "stream",
     "text": [
      "[CV] END .........................C=1, gamma=1.0, kernel=rbf; total time=   0.8s\n",
      "[CV] END .........................C=1, gamma=1.0, kernel=rbf; total time=   0.8s\n",
      "[CV] END .........................C=1, gamma=1.0, kernel=rbf; total time=   0.8s\n",
      "[CV] END .........................C=1, gamma=1.0, kernel=rbf; total time=   0.8s\n",
      "[CV] END .........................C=1, gamma=1.0, kernel=rbf; total time=   0.8s\n",
      "[CV] END .....................C=1, gamma=1.0, kernel=sigmoid; total time=   0.1s\n",
      "[CV] END .....................C=1, gamma=1.0, kernel=sigmoid; total time=   0.1s\n",
      "[CV] END .....................C=1, gamma=1.0, kernel=sigmoid; total time=   0.1s\n",
      "[CV] END .....................C=1, gamma=1.0, kernel=sigmoid; total time=   0.1s\n",
      "[CV] END .....................C=1, gamma=1.0, kernel=sigmoid; total time=   0.1s\n",
      "[CV] END ......................C=1, gamma=1.0, kernel=linear; total time=   0.0s\n",
      "[CV] END ......................C=1, gamma=1.0, kernel=linear; total time=   0.0s\n",
      "[CV] END ......................C=1, gamma=1.0, kernel=linear; total time=   0.0s\n",
      "[CV] END ......................C=1, gamma=1.0, kernel=linear; total time=   0.0s\n",
      "[CV] END ......................C=1, gamma=1.0, kernel=linear; total time=   0.0s\n",
      "[CV] END .........................C=2, gamma=0.1, kernel=rbf; total time=   0.0s\n",
      "[CV] END .........................C=2, gamma=0.1, kernel=rbf; total time=   0.0s\n",
      "[CV] END .........................C=2, gamma=0.1, kernel=rbf; total time=   0.0s\n",
      "[CV] END .........................C=2, gamma=0.1, kernel=rbf; total time=   0.0s\n",
      "[CV] END .........................C=2, gamma=0.1, kernel=rbf; total time=   0.0s\n",
      "[CV] END .....................C=2, gamma=0.1, kernel=sigmoid; total time=   0.0s\n",
      "[CV] END .....................C=2, gamma=0.1, kernel=sigmoid; total time=   0.0s\n",
      "[CV] END .....................C=2, gamma=0.1, kernel=sigmoid; total time=   0.0s\n",
      "[CV] END .....................C=2, gamma=0.1, kernel=sigmoid; total time=   0.0s\n",
      "[CV] END .....................C=2, gamma=0.1, kernel=sigmoid; total time=   0.0s\n",
      "[CV] END ......................C=2, gamma=0.1, kernel=linear; total time=   0.0s\n",
      "[CV] END ......................C=2, gamma=0.1, kernel=linear; total time=   0.0s\n",
      "[CV] END ......................C=2, gamma=0.1, kernel=linear; total time=   0.0s\n",
      "[CV] END ......................C=2, gamma=0.1, kernel=linear; total time=   0.0s\n",
      "[CV] END ......................C=2, gamma=0.1, kernel=linear; total time=   0.0s\n",
      "[CV] END .........................C=2, gamma=0.4, kernel=rbf; total time=   0.2s\n",
      "[CV] END .........................C=2, gamma=0.4, kernel=rbf; total time=   0.2s\n",
      "[CV] END .........................C=2, gamma=0.4, kernel=rbf; total time=   0.2s\n",
      "[CV] END .........................C=2, gamma=0.4, kernel=rbf; total time=   0.2s\n",
      "[CV] END .........................C=2, gamma=0.4, kernel=rbf; total time=   0.2s\n",
      "[CV] END .....................C=2, gamma=0.4, kernel=sigmoid; total time=   0.1s\n",
      "[CV] END .....................C=2, gamma=0.4, kernel=sigmoid; total time=   0.1s\n",
      "[CV] END .....................C=2, gamma=0.4, kernel=sigmoid; total time=   0.1s\n",
      "[CV] END .....................C=2, gamma=0.4, kernel=sigmoid; total time=   0.1s\n",
      "[CV] END .....................C=2, gamma=0.4, kernel=sigmoid; total time=   0.1s\n",
      "[CV] END ......................C=2, gamma=0.4, kernel=linear; total time=   0.0s\n",
      "[CV] END ......................C=2, gamma=0.4, kernel=linear; total time=   0.0s\n",
      "[CV] END ......................C=2, gamma=0.4, kernel=linear; total time=   0.0s\n",
      "[CV] END ......................C=2, gamma=0.4, kernel=linear; total time=   0.0s\n",
      "[CV] END ......................C=2, gamma=0.4, kernel=linear; total time=   0.0s\n",
      "[CV] END .........................C=2, gamma=0.7, kernel=rbf; total time=   0.7s\n",
      "[CV] END .........................C=2, gamma=0.7, kernel=rbf; total time=   0.7s\n",
      "[CV] END .........................C=2, gamma=0.7, kernel=rbf; total time=   0.7s\n",
      "[CV] END .........................C=2, gamma=0.7, kernel=rbf; total time=   0.7s\n",
      "[CV] END .........................C=2, gamma=0.7, kernel=rbf; total time=   0.8s\n",
      "[CV] END .....................C=2, gamma=0.7, kernel=sigmoid; total time=   0.1s\n",
      "[CV] END .....................C=2, gamma=0.7, kernel=sigmoid; total time=   0.1s\n",
      "[CV] END .....................C=2, gamma=0.7, kernel=sigmoid; total time=   0.1s\n",
      "[CV] END .....................C=2, gamma=0.7, kernel=sigmoid; total time=   0.2s\n",
      "[CV] END .....................C=2, gamma=0.7, kernel=sigmoid; total time=   0.1s\n",
      "[CV] END ......................C=2, gamma=0.7, kernel=linear; total time=   0.0s\n",
      "[CV] END ......................C=2, gamma=0.7, kernel=linear; total time=   0.0s\n",
      "[CV] END ......................C=2, gamma=0.7, kernel=linear; total time=   0.0s\n",
      "[CV] END ......................C=2, gamma=0.7, kernel=linear; total time=   0.0s\n",
      "[CV] END ......................C=2, gamma=0.7, kernel=linear; total time=   0.0s\n",
      "[CV] END .........................C=2, gamma=1.0, kernel=rbf; total time=   0.9s\n",
      "[CV] END .........................C=2, gamma=1.0, kernel=rbf; total time=   0.9s\n",
      "[CV] END .........................C=2, gamma=1.0, kernel=rbf; total time=   0.8s\n",
      "[CV] END .........................C=2, gamma=1.0, kernel=rbf; total time=   0.8s\n",
      "[CV] END .........................C=2, gamma=1.0, kernel=rbf; total time=   0.8s\n",
      "[CV] END .....................C=2, gamma=1.0, kernel=sigmoid; total time=   0.1s\n",
      "[CV] END .....................C=2, gamma=1.0, kernel=sigmoid; total time=   0.1s\n",
      "[CV] END .....................C=2, gamma=1.0, kernel=sigmoid; total time=   0.1s\n",
      "[CV] END .....................C=2, gamma=1.0, kernel=sigmoid; total time=   0.1s\n",
      "[CV] END .....................C=2, gamma=1.0, kernel=sigmoid; total time=   0.1s\n",
      "[CV] END ......................C=2, gamma=1.0, kernel=linear; total time=   0.0s\n",
      "[CV] END ......................C=2, gamma=1.0, kernel=linear; total time=   0.0s\n",
      "[CV] END ......................C=2, gamma=1.0, kernel=linear; total time=   0.0s\n",
      "[CV] END ......................C=2, gamma=1.0, kernel=linear; total time=   0.0s\n",
      "[CV] END ......................C=2, gamma=1.0, kernel=linear; total time=   0.0s\n"
     ]
    },
    {
     "data": {
      "text/plain": [
       "GridSearchCV(estimator=SVC(),\n",
       "             param_grid={'C': [0.1, 1, 2], 'gamma': array([0.1, 0.4, 0.7, 1. ]),\n",
       "                         'kernel': ['rbf', 'sigmoid', 'linear']},\n",
       "             verbose=2)"
      ]
     },
     "execution_count": 109,
     "metadata": {},
     "output_type": "execute_result"
    }
   ],
   "source": [
    "svc=SVC()\n",
    "params={\"C\":[0.1,1,2],\n",
    "       'kernel':['rbf','sigmoid','linear'],\n",
    "       'gamma':np.linspace(0.1,1,4)}\n",
    "cv=GridSearchCV(svc,params,verbose=2)\n",
    "cv.fit(X_train,y_train)"
   ]
  },
  {
   "cell_type": "code",
   "execution_count": 110,
   "id": "49a5f271",
   "metadata": {},
   "outputs": [],
   "source": [
    "best=cv.best_params_\n"
   ]
  },
  {
   "cell_type": "code",
   "execution_count": 111,
   "id": "dd0fa609",
   "metadata": {},
   "outputs": [
    {
     "data": {
      "text/plain": [
       "0.9907178217821783"
      ]
     },
     "execution_count": 111,
     "metadata": {},
     "output_type": "execute_result"
    }
   ],
   "source": [
    "new_svc=SVC(**best)\n",
    "new_svc.fit(X_train,y_train)\n",
    "pred=new_svc.predict(X_test)\n",
    "accuracy_score(y_test,pred)"
   ]
  },
  {
   "cell_type": "code",
   "execution_count": 119,
   "id": "3087797e",
   "metadata": {
    "scrolled": true
   },
   "outputs": [
    {
     "name": "stdout",
     "output_type": "stream",
     "text": [
      "Fitting 5 folds for each of 54 candidates, totalling 270 fits\n",
      "[CV] END criterion=gini, min_samples_leaf=1, min_samples_split=2, n_estimators=100; total time=   0.3s\n",
      "[CV] END criterion=gini, min_samples_leaf=1, min_samples_split=2, n_estimators=100; total time=   0.3s\n",
      "[CV] END criterion=gini, min_samples_leaf=1, min_samples_split=2, n_estimators=100; total time=   0.3s\n",
      "[CV] END criterion=gini, min_samples_leaf=1, min_samples_split=2, n_estimators=100; total time=   0.3s\n",
      "[CV] END criterion=gini, min_samples_leaf=1, min_samples_split=2, n_estimators=100; total time=   0.3s\n",
      "[CV] END criterion=gini, min_samples_leaf=1, min_samples_split=2, n_estimators=300; total time=   1.1s\n",
      "[CV] END criterion=gini, min_samples_leaf=1, min_samples_split=2, n_estimators=300; total time=   1.1s\n",
      "[CV] END criterion=gini, min_samples_leaf=1, min_samples_split=2, n_estimators=300; total time=   1.1s\n",
      "[CV] END criterion=gini, min_samples_leaf=1, min_samples_split=2, n_estimators=300; total time=   1.1s\n",
      "[CV] END criterion=gini, min_samples_leaf=1, min_samples_split=2, n_estimators=300; total time=   1.1s\n",
      "[CV] END criterion=gini, min_samples_leaf=1, min_samples_split=2, n_estimators=400; total time=   1.6s\n",
      "[CV] END criterion=gini, min_samples_leaf=1, min_samples_split=2, n_estimators=400; total time=   1.7s\n",
      "[CV] END criterion=gini, min_samples_leaf=1, min_samples_split=2, n_estimators=400; total time=   1.6s\n",
      "[CV] END criterion=gini, min_samples_leaf=1, min_samples_split=2, n_estimators=400; total time=   1.7s\n",
      "[CV] END criterion=gini, min_samples_leaf=1, min_samples_split=2, n_estimators=400; total time=   1.4s\n",
      "[CV] END criterion=gini, min_samples_leaf=1, min_samples_split=4, n_estimators=100; total time=   0.3s\n",
      "[CV] END criterion=gini, min_samples_leaf=1, min_samples_split=4, n_estimators=100; total time=   0.3s\n",
      "[CV] END criterion=gini, min_samples_leaf=1, min_samples_split=4, n_estimators=100; total time=   0.4s\n",
      "[CV] END criterion=gini, min_samples_leaf=1, min_samples_split=4, n_estimators=100; total time=   0.3s\n",
      "[CV] END criterion=gini, min_samples_leaf=1, min_samples_split=4, n_estimators=100; total time=   0.3s\n",
      "[CV] END criterion=gini, min_samples_leaf=1, min_samples_split=4, n_estimators=300; total time=   1.1s\n",
      "[CV] END criterion=gini, min_samples_leaf=1, min_samples_split=4, n_estimators=300; total time=   1.2s\n",
      "[CV] END criterion=gini, min_samples_leaf=1, min_samples_split=4, n_estimators=300; total time=   1.2s\n",
      "[CV] END criterion=gini, min_samples_leaf=1, min_samples_split=4, n_estimators=300; total time=   1.1s\n",
      "[CV] END criterion=gini, min_samples_leaf=1, min_samples_split=4, n_estimators=300; total time=   1.1s\n",
      "[CV] END criterion=gini, min_samples_leaf=1, min_samples_split=4, n_estimators=400; total time=   1.5s\n",
      "[CV] END criterion=gini, min_samples_leaf=1, min_samples_split=4, n_estimators=400; total time=   1.5s\n",
      "[CV] END criterion=gini, min_samples_leaf=1, min_samples_split=4, n_estimators=400; total time=   1.5s\n",
      "[CV] END criterion=gini, min_samples_leaf=1, min_samples_split=4, n_estimators=400; total time=   1.4s\n",
      "[CV] END criterion=gini, min_samples_leaf=1, min_samples_split=4, n_estimators=400; total time=   1.4s\n",
      "[CV] END criterion=gini, min_samples_leaf=1, min_samples_split=6, n_estimators=100; total time=   0.3s\n",
      "[CV] END criterion=gini, min_samples_leaf=1, min_samples_split=6, n_estimators=100; total time=   0.3s\n",
      "[CV] END criterion=gini, min_samples_leaf=1, min_samples_split=6, n_estimators=100; total time=   0.3s\n",
      "[CV] END criterion=gini, min_samples_leaf=1, min_samples_split=6, n_estimators=100; total time=   0.3s\n",
      "[CV] END criterion=gini, min_samples_leaf=1, min_samples_split=6, n_estimators=100; total time=   0.3s\n",
      "[CV] END criterion=gini, min_samples_leaf=1, min_samples_split=6, n_estimators=300; total time=   1.1s\n",
      "[CV] END criterion=gini, min_samples_leaf=1, min_samples_split=6, n_estimators=300; total time=   1.1s\n",
      "[CV] END criterion=gini, min_samples_leaf=1, min_samples_split=6, n_estimators=300; total time=   1.1s\n",
      "[CV] END criterion=gini, min_samples_leaf=1, min_samples_split=6, n_estimators=300; total time=   1.1s\n",
      "[CV] END criterion=gini, min_samples_leaf=1, min_samples_split=6, n_estimators=300; total time=   1.0s\n",
      "[CV] END criterion=gini, min_samples_leaf=1, min_samples_split=6, n_estimators=400; total time=   1.4s\n",
      "[CV] END criterion=gini, min_samples_leaf=1, min_samples_split=6, n_estimators=400; total time=   1.4s\n",
      "[CV] END criterion=gini, min_samples_leaf=1, min_samples_split=6, n_estimators=400; total time=   1.4s\n",
      "[CV] END criterion=gini, min_samples_leaf=1, min_samples_split=6, n_estimators=400; total time=   1.4s\n",
      "[CV] END criterion=gini, min_samples_leaf=1, min_samples_split=6, n_estimators=400; total time=   1.6s\n",
      "[CV] END criterion=gini, min_samples_leaf=3, min_samples_split=2, n_estimators=100; total time=   0.3s\n",
      "[CV] END criterion=gini, min_samples_leaf=3, min_samples_split=2, n_estimators=100; total time=   0.3s\n",
      "[CV] END criterion=gini, min_samples_leaf=3, min_samples_split=2, n_estimators=100; total time=   0.3s\n",
      "[CV] END criterion=gini, min_samples_leaf=3, min_samples_split=2, n_estimators=100; total time=   0.3s\n",
      "[CV] END criterion=gini, min_samples_leaf=3, min_samples_split=2, n_estimators=100; total time=   0.3s\n",
      "[CV] END criterion=gini, min_samples_leaf=3, min_samples_split=2, n_estimators=300; total time=   1.0s\n",
      "[CV] END criterion=gini, min_samples_leaf=3, min_samples_split=2, n_estimators=300; total time=   1.0s\n",
      "[CV] END criterion=gini, min_samples_leaf=3, min_samples_split=2, n_estimators=300; total time=   1.1s\n",
      "[CV] END criterion=gini, min_samples_leaf=3, min_samples_split=2, n_estimators=300; total time=   1.0s\n",
      "[CV] END criterion=gini, min_samples_leaf=3, min_samples_split=2, n_estimators=300; total time=   1.1s\n",
      "[CV] END criterion=gini, min_samples_leaf=3, min_samples_split=2, n_estimators=400; total time=   1.6s\n",
      "[CV] END criterion=gini, min_samples_leaf=3, min_samples_split=2, n_estimators=400; total time=   1.5s\n",
      "[CV] END criterion=gini, min_samples_leaf=3, min_samples_split=2, n_estimators=400; total time=   1.5s\n",
      "[CV] END criterion=gini, min_samples_leaf=3, min_samples_split=2, n_estimators=400; total time=   1.6s\n",
      "[CV] END criterion=gini, min_samples_leaf=3, min_samples_split=2, n_estimators=400; total time=   1.5s\n",
      "[CV] END criterion=gini, min_samples_leaf=3, min_samples_split=4, n_estimators=100; total time=   0.3s\n",
      "[CV] END criterion=gini, min_samples_leaf=3, min_samples_split=4, n_estimators=100; total time=   0.3s\n",
      "[CV] END criterion=gini, min_samples_leaf=3, min_samples_split=4, n_estimators=100; total time=   0.3s\n",
      "[CV] END criterion=gini, min_samples_leaf=3, min_samples_split=4, n_estimators=100; total time=   0.4s\n",
      "[CV] END criterion=gini, min_samples_leaf=3, min_samples_split=4, n_estimators=100; total time=   0.3s\n",
      "[CV] END criterion=gini, min_samples_leaf=3, min_samples_split=4, n_estimators=300; total time=   1.0s\n",
      "[CV] END criterion=gini, min_samples_leaf=3, min_samples_split=4, n_estimators=300; total time=   1.1s\n",
      "[CV] END criterion=gini, min_samples_leaf=3, min_samples_split=4, n_estimators=300; total time=   1.0s\n",
      "[CV] END criterion=gini, min_samples_leaf=3, min_samples_split=4, n_estimators=300; total time=   1.0s\n",
      "[CV] END criterion=gini, min_samples_leaf=3, min_samples_split=4, n_estimators=300; total time=   1.0s\n",
      "[CV] END criterion=gini, min_samples_leaf=3, min_samples_split=4, n_estimators=400; total time=   1.5s\n",
      "[CV] END criterion=gini, min_samples_leaf=3, min_samples_split=4, n_estimators=400; total time=   1.6s\n",
      "[CV] END criterion=gini, min_samples_leaf=3, min_samples_split=4, n_estimators=400; total time=   1.7s\n",
      "[CV] END criterion=gini, min_samples_leaf=3, min_samples_split=4, n_estimators=400; total time=   1.6s\n",
      "[CV] END criterion=gini, min_samples_leaf=3, min_samples_split=4, n_estimators=400; total time=   1.5s\n",
      "[CV] END criterion=gini, min_samples_leaf=3, min_samples_split=6, n_estimators=100; total time=   0.5s\n",
      "[CV] END criterion=gini, min_samples_leaf=3, min_samples_split=6, n_estimators=100; total time=   0.5s\n",
      "[CV] END criterion=gini, min_samples_leaf=3, min_samples_split=6, n_estimators=100; total time=   0.5s\n",
      "[CV] END criterion=gini, min_samples_leaf=3, min_samples_split=6, n_estimators=100; total time=   0.5s\n"
     ]
    },
    {
     "name": "stdout",
     "output_type": "stream",
     "text": [
      "[CV] END criterion=gini, min_samples_leaf=3, min_samples_split=6, n_estimators=100; total time=   0.5s\n",
      "[CV] END criterion=gini, min_samples_leaf=3, min_samples_split=6, n_estimators=300; total time=   1.5s\n",
      "[CV] END criterion=gini, min_samples_leaf=3, min_samples_split=6, n_estimators=300; total time=   1.4s\n",
      "[CV] END criterion=gini, min_samples_leaf=3, min_samples_split=6, n_estimators=300; total time=   1.3s\n",
      "[CV] END criterion=gini, min_samples_leaf=3, min_samples_split=6, n_estimators=300; total time=   1.3s\n",
      "[CV] END criterion=gini, min_samples_leaf=3, min_samples_split=6, n_estimators=300; total time=   1.2s\n",
      "[CV] END criterion=gini, min_samples_leaf=3, min_samples_split=6, n_estimators=400; total time=   1.7s\n",
      "[CV] END criterion=gini, min_samples_leaf=3, min_samples_split=6, n_estimators=400; total time=   1.5s\n",
      "[CV] END criterion=gini, min_samples_leaf=3, min_samples_split=6, n_estimators=400; total time=   1.7s\n",
      "[CV] END criterion=gini, min_samples_leaf=3, min_samples_split=6, n_estimators=400; total time=   1.7s\n",
      "[CV] END criterion=gini, min_samples_leaf=3, min_samples_split=6, n_estimators=400; total time=   1.5s\n",
      "[CV] END criterion=gini, min_samples_leaf=5, min_samples_split=2, n_estimators=100; total time=   0.3s\n",
      "[CV] END criterion=gini, min_samples_leaf=5, min_samples_split=2, n_estimators=100; total time=   0.3s\n",
      "[CV] END criterion=gini, min_samples_leaf=5, min_samples_split=2, n_estimators=100; total time=   0.3s\n",
      "[CV] END criterion=gini, min_samples_leaf=5, min_samples_split=2, n_estimators=100; total time=   0.3s\n",
      "[CV] END criterion=gini, min_samples_leaf=5, min_samples_split=2, n_estimators=100; total time=   0.3s\n",
      "[CV] END criterion=gini, min_samples_leaf=5, min_samples_split=2, n_estimators=300; total time=   1.1s\n",
      "[CV] END criterion=gini, min_samples_leaf=5, min_samples_split=2, n_estimators=300; total time=   1.1s\n",
      "[CV] END criterion=gini, min_samples_leaf=5, min_samples_split=2, n_estimators=300; total time=   1.2s\n",
      "[CV] END criterion=gini, min_samples_leaf=5, min_samples_split=2, n_estimators=300; total time=   1.2s\n",
      "[CV] END criterion=gini, min_samples_leaf=5, min_samples_split=2, n_estimators=300; total time=   1.2s\n",
      "[CV] END criterion=gini, min_samples_leaf=5, min_samples_split=2, n_estimators=400; total time=   1.6s\n",
      "[CV] END criterion=gini, min_samples_leaf=5, min_samples_split=2, n_estimators=400; total time=   1.6s\n",
      "[CV] END criterion=gini, min_samples_leaf=5, min_samples_split=2, n_estimators=400; total time=   1.6s\n",
      "[CV] END criterion=gini, min_samples_leaf=5, min_samples_split=2, n_estimators=400; total time=   1.6s\n",
      "[CV] END criterion=gini, min_samples_leaf=5, min_samples_split=2, n_estimators=400; total time=   1.5s\n",
      "[CV] END criterion=gini, min_samples_leaf=5, min_samples_split=4, n_estimators=100; total time=   0.3s\n",
      "[CV] END criterion=gini, min_samples_leaf=5, min_samples_split=4, n_estimators=100; total time=   0.3s\n",
      "[CV] END criterion=gini, min_samples_leaf=5, min_samples_split=4, n_estimators=100; total time=   0.4s\n",
      "[CV] END criterion=gini, min_samples_leaf=5, min_samples_split=4, n_estimators=100; total time=   0.4s\n",
      "[CV] END criterion=gini, min_samples_leaf=5, min_samples_split=4, n_estimators=100; total time=   0.3s\n",
      "[CV] END criterion=gini, min_samples_leaf=5, min_samples_split=4, n_estimators=300; total time=   1.1s\n",
      "[CV] END criterion=gini, min_samples_leaf=5, min_samples_split=4, n_estimators=300; total time=   1.1s\n",
      "[CV] END criterion=gini, min_samples_leaf=5, min_samples_split=4, n_estimators=300; total time=   1.1s\n",
      "[CV] END criterion=gini, min_samples_leaf=5, min_samples_split=4, n_estimators=300; total time=   1.2s\n",
      "[CV] END criterion=gini, min_samples_leaf=5, min_samples_split=4, n_estimators=300; total time=   1.2s\n",
      "[CV] END criterion=gini, min_samples_leaf=5, min_samples_split=4, n_estimators=400; total time=   1.5s\n",
      "[CV] END criterion=gini, min_samples_leaf=5, min_samples_split=4, n_estimators=400; total time=   1.5s\n",
      "[CV] END criterion=gini, min_samples_leaf=5, min_samples_split=4, n_estimators=400; total time=   1.4s\n",
      "[CV] END criterion=gini, min_samples_leaf=5, min_samples_split=4, n_estimators=400; total time=   1.6s\n",
      "[CV] END criterion=gini, min_samples_leaf=5, min_samples_split=4, n_estimators=400; total time=   1.5s\n",
      "[CV] END criterion=gini, min_samples_leaf=5, min_samples_split=6, n_estimators=100; total time=   0.4s\n",
      "[CV] END criterion=gini, min_samples_leaf=5, min_samples_split=6, n_estimators=100; total time=   0.3s\n",
      "[CV] END criterion=gini, min_samples_leaf=5, min_samples_split=6, n_estimators=100; total time=   0.3s\n",
      "[CV] END criterion=gini, min_samples_leaf=5, min_samples_split=6, n_estimators=100; total time=   0.3s\n",
      "[CV] END criterion=gini, min_samples_leaf=5, min_samples_split=6, n_estimators=100; total time=   0.4s\n",
      "[CV] END criterion=gini, min_samples_leaf=5, min_samples_split=6, n_estimators=300; total time=   1.2s\n",
      "[CV] END criterion=gini, min_samples_leaf=5, min_samples_split=6, n_estimators=300; total time=   1.1s\n",
      "[CV] END criterion=gini, min_samples_leaf=5, min_samples_split=6, n_estimators=300; total time=   1.3s\n",
      "[CV] END criterion=gini, min_samples_leaf=5, min_samples_split=6, n_estimators=300; total time=   1.1s\n",
      "[CV] END criterion=gini, min_samples_leaf=5, min_samples_split=6, n_estimators=300; total time=   1.0s\n",
      "[CV] END criterion=gini, min_samples_leaf=5, min_samples_split=6, n_estimators=400; total time=   1.5s\n",
      "[CV] END criterion=gini, min_samples_leaf=5, min_samples_split=6, n_estimators=400; total time=   1.4s\n",
      "[CV] END criterion=gini, min_samples_leaf=5, min_samples_split=6, n_estimators=400; total time=   1.4s\n",
      "[CV] END criterion=gini, min_samples_leaf=5, min_samples_split=6, n_estimators=400; total time=   1.4s\n",
      "[CV] END criterion=gini, min_samples_leaf=5, min_samples_split=6, n_estimators=400; total time=   1.5s\n",
      "[CV] END criterion=entropy, min_samples_leaf=1, min_samples_split=2, n_estimators=100; total time=   0.3s\n",
      "[CV] END criterion=entropy, min_samples_leaf=1, min_samples_split=2, n_estimators=100; total time=   0.3s\n",
      "[CV] END criterion=entropy, min_samples_leaf=1, min_samples_split=2, n_estimators=100; total time=   0.3s\n",
      "[CV] END criterion=entropy, min_samples_leaf=1, min_samples_split=2, n_estimators=100; total time=   0.3s\n",
      "[CV] END criterion=entropy, min_samples_leaf=1, min_samples_split=2, n_estimators=100; total time=   0.3s\n",
      "[CV] END criterion=entropy, min_samples_leaf=1, min_samples_split=2, n_estimators=300; total time=   1.1s\n",
      "[CV] END criterion=entropy, min_samples_leaf=1, min_samples_split=2, n_estimators=300; total time=   1.1s\n",
      "[CV] END criterion=entropy, min_samples_leaf=1, min_samples_split=2, n_estimators=300; total time=   1.1s\n",
      "[CV] END criterion=entropy, min_samples_leaf=1, min_samples_split=2, n_estimators=300; total time=   1.1s\n",
      "[CV] END criterion=entropy, min_samples_leaf=1, min_samples_split=2, n_estimators=300; total time=   1.1s\n",
      "[CV] END criterion=entropy, min_samples_leaf=1, min_samples_split=2, n_estimators=400; total time=   1.5s\n",
      "[CV] END criterion=entropy, min_samples_leaf=1, min_samples_split=2, n_estimators=400; total time=   1.6s\n",
      "[CV] END criterion=entropy, min_samples_leaf=1, min_samples_split=2, n_estimators=400; total time=   1.5s\n",
      "[CV] END criterion=entropy, min_samples_leaf=1, min_samples_split=2, n_estimators=400; total time=   1.5s\n",
      "[CV] END criterion=entropy, min_samples_leaf=1, min_samples_split=2, n_estimators=400; total time=   1.5s\n",
      "[CV] END criterion=entropy, min_samples_leaf=1, min_samples_split=4, n_estimators=100; total time=   0.3s\n",
      "[CV] END criterion=entropy, min_samples_leaf=1, min_samples_split=4, n_estimators=100; total time=   0.3s\n",
      "[CV] END criterion=entropy, min_samples_leaf=1, min_samples_split=4, n_estimators=100; total time=   0.3s\n",
      "[CV] END criterion=entropy, min_samples_leaf=1, min_samples_split=4, n_estimators=100; total time=   0.3s\n",
      "[CV] END criterion=entropy, min_samples_leaf=1, min_samples_split=4, n_estimators=100; total time=   0.3s\n",
      "[CV] END criterion=entropy, min_samples_leaf=1, min_samples_split=4, n_estimators=300; total time=   1.1s\n",
      "[CV] END criterion=entropy, min_samples_leaf=1, min_samples_split=4, n_estimators=300; total time=   1.2s\n",
      "[CV] END criterion=entropy, min_samples_leaf=1, min_samples_split=4, n_estimators=300; total time=   1.2s\n"
     ]
    },
    {
     "name": "stdout",
     "output_type": "stream",
     "text": [
      "[CV] END criterion=entropy, min_samples_leaf=1, min_samples_split=4, n_estimators=300; total time=   1.0s\n",
      "[CV] END criterion=entropy, min_samples_leaf=1, min_samples_split=4, n_estimators=300; total time=   1.1s\n",
      "[CV] END criterion=entropy, min_samples_leaf=1, min_samples_split=4, n_estimators=400; total time=   1.4s\n",
      "[CV] END criterion=entropy, min_samples_leaf=1, min_samples_split=4, n_estimators=400; total time=   1.4s\n",
      "[CV] END criterion=entropy, min_samples_leaf=1, min_samples_split=4, n_estimators=400; total time=   1.5s\n",
      "[CV] END criterion=entropy, min_samples_leaf=1, min_samples_split=4, n_estimators=400; total time=   1.5s\n",
      "[CV] END criterion=entropy, min_samples_leaf=1, min_samples_split=4, n_estimators=400; total time=   1.5s\n",
      "[CV] END criterion=entropy, min_samples_leaf=1, min_samples_split=6, n_estimators=100; total time=   0.3s\n",
      "[CV] END criterion=entropy, min_samples_leaf=1, min_samples_split=6, n_estimators=100; total time=   0.3s\n",
      "[CV] END criterion=entropy, min_samples_leaf=1, min_samples_split=6, n_estimators=100; total time=   0.3s\n",
      "[CV] END criterion=entropy, min_samples_leaf=1, min_samples_split=6, n_estimators=100; total time=   0.3s\n",
      "[CV] END criterion=entropy, min_samples_leaf=1, min_samples_split=6, n_estimators=100; total time=   0.3s\n",
      "[CV] END criterion=entropy, min_samples_leaf=1, min_samples_split=6, n_estimators=300; total time=   1.1s\n",
      "[CV] END criterion=entropy, min_samples_leaf=1, min_samples_split=6, n_estimators=300; total time=   1.0s\n",
      "[CV] END criterion=entropy, min_samples_leaf=1, min_samples_split=6, n_estimators=300; total time=   1.1s\n",
      "[CV] END criterion=entropy, min_samples_leaf=1, min_samples_split=6, n_estimators=300; total time=   1.1s\n",
      "[CV] END criterion=entropy, min_samples_leaf=1, min_samples_split=6, n_estimators=300; total time=   1.2s\n",
      "[CV] END criterion=entropy, min_samples_leaf=1, min_samples_split=6, n_estimators=400; total time=   1.5s\n",
      "[CV] END criterion=entropy, min_samples_leaf=1, min_samples_split=6, n_estimators=400; total time=   1.4s\n",
      "[CV] END criterion=entropy, min_samples_leaf=1, min_samples_split=6, n_estimators=400; total time=   1.4s\n",
      "[CV] END criterion=entropy, min_samples_leaf=1, min_samples_split=6, n_estimators=400; total time=   1.5s\n",
      "[CV] END criterion=entropy, min_samples_leaf=1, min_samples_split=6, n_estimators=400; total time=   1.4s\n",
      "[CV] END criterion=entropy, min_samples_leaf=3, min_samples_split=2, n_estimators=100; total time=   0.3s\n",
      "[CV] END criterion=entropy, min_samples_leaf=3, min_samples_split=2, n_estimators=100; total time=   0.3s\n",
      "[CV] END criterion=entropy, min_samples_leaf=3, min_samples_split=2, n_estimators=100; total time=   0.3s\n",
      "[CV] END criterion=entropy, min_samples_leaf=3, min_samples_split=2, n_estimators=100; total time=   0.4s\n",
      "[CV] END criterion=entropy, min_samples_leaf=3, min_samples_split=2, n_estimators=100; total time=   0.3s\n",
      "[CV] END criterion=entropy, min_samples_leaf=3, min_samples_split=2, n_estimators=300; total time=   1.1s\n",
      "[CV] END criterion=entropy, min_samples_leaf=3, min_samples_split=2, n_estimators=300; total time=   1.0s\n",
      "[CV] END criterion=entropy, min_samples_leaf=3, min_samples_split=2, n_estimators=300; total time=   1.1s\n",
      "[CV] END criterion=entropy, min_samples_leaf=3, min_samples_split=2, n_estimators=300; total time=   1.0s\n",
      "[CV] END criterion=entropy, min_samples_leaf=3, min_samples_split=2, n_estimators=300; total time=   1.0s\n",
      "[CV] END criterion=entropy, min_samples_leaf=3, min_samples_split=2, n_estimators=400; total time=   1.7s\n",
      "[CV] END criterion=entropy, min_samples_leaf=3, min_samples_split=2, n_estimators=400; total time=   1.4s\n",
      "[CV] END criterion=entropy, min_samples_leaf=3, min_samples_split=2, n_estimators=400; total time=   1.5s\n",
      "[CV] END criterion=entropy, min_samples_leaf=3, min_samples_split=2, n_estimators=400; total time=   1.4s\n",
      "[CV] END criterion=entropy, min_samples_leaf=3, min_samples_split=2, n_estimators=400; total time=   1.4s\n",
      "[CV] END criterion=entropy, min_samples_leaf=3, min_samples_split=4, n_estimators=100; total time=   0.3s\n",
      "[CV] END criterion=entropy, min_samples_leaf=3, min_samples_split=4, n_estimators=100; total time=   0.3s\n",
      "[CV] END criterion=entropy, min_samples_leaf=3, min_samples_split=4, n_estimators=100; total time=   0.3s\n",
      "[CV] END criterion=entropy, min_samples_leaf=3, min_samples_split=4, n_estimators=100; total time=   0.3s\n",
      "[CV] END criterion=entropy, min_samples_leaf=3, min_samples_split=4, n_estimators=100; total time=   0.3s\n",
      "[CV] END criterion=entropy, min_samples_leaf=3, min_samples_split=4, n_estimators=300; total time=   1.0s\n",
      "[CV] END criterion=entropy, min_samples_leaf=3, min_samples_split=4, n_estimators=300; total time=   1.0s\n",
      "[CV] END criterion=entropy, min_samples_leaf=3, min_samples_split=4, n_estimators=300; total time=   1.1s\n",
      "[CV] END criterion=entropy, min_samples_leaf=3, min_samples_split=4, n_estimators=300; total time=   1.0s\n",
      "[CV] END criterion=entropy, min_samples_leaf=3, min_samples_split=4, n_estimators=300; total time=   1.1s\n",
      "[CV] END criterion=entropy, min_samples_leaf=3, min_samples_split=4, n_estimators=400; total time=   1.5s\n",
      "[CV] END criterion=entropy, min_samples_leaf=3, min_samples_split=4, n_estimators=400; total time=   1.6s\n",
      "[CV] END criterion=entropy, min_samples_leaf=3, min_samples_split=4, n_estimators=400; total time=   1.5s\n",
      "[CV] END criterion=entropy, min_samples_leaf=3, min_samples_split=4, n_estimators=400; total time=   1.5s\n",
      "[CV] END criterion=entropy, min_samples_leaf=3, min_samples_split=4, n_estimators=400; total time=   1.4s\n",
      "[CV] END criterion=entropy, min_samples_leaf=3, min_samples_split=6, n_estimators=100; total time=   0.3s\n",
      "[CV] END criterion=entropy, min_samples_leaf=3, min_samples_split=6, n_estimators=100; total time=   0.3s\n",
      "[CV] END criterion=entropy, min_samples_leaf=3, min_samples_split=6, n_estimators=100; total time=   0.3s\n",
      "[CV] END criterion=entropy, min_samples_leaf=3, min_samples_split=6, n_estimators=100; total time=   0.3s\n",
      "[CV] END criterion=entropy, min_samples_leaf=3, min_samples_split=6, n_estimators=100; total time=   0.4s\n",
      "[CV] END criterion=entropy, min_samples_leaf=3, min_samples_split=6, n_estimators=300; total time=   1.0s\n",
      "[CV] END criterion=entropy, min_samples_leaf=3, min_samples_split=6, n_estimators=300; total time=   1.1s\n",
      "[CV] END criterion=entropy, min_samples_leaf=3, min_samples_split=6, n_estimators=300; total time=   1.6s\n",
      "[CV] END criterion=entropy, min_samples_leaf=3, min_samples_split=6, n_estimators=300; total time=   1.2s\n",
      "[CV] END criterion=entropy, min_samples_leaf=3, min_samples_split=6, n_estimators=300; total time=   1.2s\n",
      "[CV] END criterion=entropy, min_samples_leaf=3, min_samples_split=6, n_estimators=400; total time=   1.9s\n",
      "[CV] END criterion=entropy, min_samples_leaf=3, min_samples_split=6, n_estimators=400; total time=   1.7s\n",
      "[CV] END criterion=entropy, min_samples_leaf=3, min_samples_split=6, n_estimators=400; total time=   1.7s\n",
      "[CV] END criterion=entropy, min_samples_leaf=3, min_samples_split=6, n_estimators=400; total time=   1.4s\n",
      "[CV] END criterion=entropy, min_samples_leaf=3, min_samples_split=6, n_estimators=400; total time=   1.5s\n",
      "[CV] END criterion=entropy, min_samples_leaf=5, min_samples_split=2, n_estimators=100; total time=   0.3s\n",
      "[CV] END criterion=entropy, min_samples_leaf=5, min_samples_split=2, n_estimators=100; total time=   0.3s\n",
      "[CV] END criterion=entropy, min_samples_leaf=5, min_samples_split=2, n_estimators=100; total time=   0.3s\n",
      "[CV] END criterion=entropy, min_samples_leaf=5, min_samples_split=2, n_estimators=100; total time=   0.3s\n",
      "[CV] END criterion=entropy, min_samples_leaf=5, min_samples_split=2, n_estimators=100; total time=   0.3s\n",
      "[CV] END criterion=entropy, min_samples_leaf=5, min_samples_split=2, n_estimators=300; total time=   1.1s\n",
      "[CV] END criterion=entropy, min_samples_leaf=5, min_samples_split=2, n_estimators=300; total time=   1.0s\n",
      "[CV] END criterion=entropy, min_samples_leaf=5, min_samples_split=2, n_estimators=300; total time=   1.1s\n",
      "[CV] END criterion=entropy, min_samples_leaf=5, min_samples_split=2, n_estimators=300; total time=   1.0s\n",
      "[CV] END criterion=entropy, min_samples_leaf=5, min_samples_split=2, n_estimators=300; total time=   1.1s\n",
      "[CV] END criterion=entropy, min_samples_leaf=5, min_samples_split=2, n_estimators=400; total time=   1.4s\n"
     ]
    },
    {
     "name": "stdout",
     "output_type": "stream",
     "text": [
      "[CV] END criterion=entropy, min_samples_leaf=5, min_samples_split=2, n_estimators=400; total time=   1.4s\n",
      "[CV] END criterion=entropy, min_samples_leaf=5, min_samples_split=2, n_estimators=400; total time=   1.5s\n",
      "[CV] END criterion=entropy, min_samples_leaf=5, min_samples_split=2, n_estimators=400; total time=   1.4s\n",
      "[CV] END criterion=entropy, min_samples_leaf=5, min_samples_split=2, n_estimators=400; total time=   1.4s\n",
      "[CV] END criterion=entropy, min_samples_leaf=5, min_samples_split=4, n_estimators=100; total time=   0.3s\n",
      "[CV] END criterion=entropy, min_samples_leaf=5, min_samples_split=4, n_estimators=100; total time=   0.3s\n",
      "[CV] END criterion=entropy, min_samples_leaf=5, min_samples_split=4, n_estimators=100; total time=   0.3s\n",
      "[CV] END criterion=entropy, min_samples_leaf=5, min_samples_split=4, n_estimators=100; total time=   0.3s\n",
      "[CV] END criterion=entropy, min_samples_leaf=5, min_samples_split=4, n_estimators=100; total time=   0.3s\n",
      "[CV] END criterion=entropy, min_samples_leaf=5, min_samples_split=4, n_estimators=300; total time=   1.1s\n",
      "[CV] END criterion=entropy, min_samples_leaf=5, min_samples_split=4, n_estimators=300; total time=   1.2s\n",
      "[CV] END criterion=entropy, min_samples_leaf=5, min_samples_split=4, n_estimators=300; total time=   1.2s\n",
      "[CV] END criterion=entropy, min_samples_leaf=5, min_samples_split=4, n_estimators=300; total time=   1.2s\n",
      "[CV] END criterion=entropy, min_samples_leaf=5, min_samples_split=4, n_estimators=300; total time=   1.2s\n",
      "[CV] END criterion=entropy, min_samples_leaf=5, min_samples_split=4, n_estimators=400; total time=   1.5s\n",
      "[CV] END criterion=entropy, min_samples_leaf=5, min_samples_split=4, n_estimators=400; total time=   1.5s\n",
      "[CV] END criterion=entropy, min_samples_leaf=5, min_samples_split=4, n_estimators=400; total time=   1.6s\n",
      "[CV] END criterion=entropy, min_samples_leaf=5, min_samples_split=4, n_estimators=400; total time=   1.8s\n",
      "[CV] END criterion=entropy, min_samples_leaf=5, min_samples_split=4, n_estimators=400; total time=   1.5s\n",
      "[CV] END criterion=entropy, min_samples_leaf=5, min_samples_split=6, n_estimators=100; total time=   0.3s\n",
      "[CV] END criterion=entropy, min_samples_leaf=5, min_samples_split=6, n_estimators=100; total time=   0.3s\n",
      "[CV] END criterion=entropy, min_samples_leaf=5, min_samples_split=6, n_estimators=100; total time=   0.3s\n",
      "[CV] END criterion=entropy, min_samples_leaf=5, min_samples_split=6, n_estimators=100; total time=   0.3s\n",
      "[CV] END criterion=entropy, min_samples_leaf=5, min_samples_split=6, n_estimators=100; total time=   0.3s\n",
      "[CV] END criterion=entropy, min_samples_leaf=5, min_samples_split=6, n_estimators=300; total time=   1.1s\n",
      "[CV] END criterion=entropy, min_samples_leaf=5, min_samples_split=6, n_estimators=300; total time=   1.0s\n",
      "[CV] END criterion=entropy, min_samples_leaf=5, min_samples_split=6, n_estimators=300; total time=   1.1s\n",
      "[CV] END criterion=entropy, min_samples_leaf=5, min_samples_split=6, n_estimators=300; total time=   1.2s\n",
      "[CV] END criterion=entropy, min_samples_leaf=5, min_samples_split=6, n_estimators=300; total time=   1.1s\n",
      "[CV] END criterion=entropy, min_samples_leaf=5, min_samples_split=6, n_estimators=400; total time=   1.4s\n",
      "[CV] END criterion=entropy, min_samples_leaf=5, min_samples_split=6, n_estimators=400; total time=   1.4s\n",
      "[CV] END criterion=entropy, min_samples_leaf=5, min_samples_split=6, n_estimators=400; total time=   1.6s\n",
      "[CV] END criterion=entropy, min_samples_leaf=5, min_samples_split=6, n_estimators=400; total time=   1.6s\n",
      "[CV] END criterion=entropy, min_samples_leaf=5, min_samples_split=6, n_estimators=400; total time=   1.4s\n"
     ]
    },
    {
     "data": {
      "text/plain": [
       "GridSearchCV(estimator=RandomForestClassifier(),\n",
       "             param_grid={'criterion': ['gini', 'entropy'],\n",
       "                         'min_samples_leaf': [1, 3, 5],\n",
       "                         'min_samples_split': [2, 4, 6],\n",
       "                         'n_estimators': [100, 300, 400]},\n",
       "             verbose=2)"
      ]
     },
     "execution_count": 119,
     "metadata": {},
     "output_type": "execute_result"
    }
   ],
   "source": [
    "rfc=RandomForestClassifier()\n",
    "params={'n_estimators':[100,300,400],\n",
    "       'criterion':['gini','entropy'],\n",
    "       'min_samples_split':[2,4,6],\n",
    "       'min_samples_leaf':[1,3,5]}\n",
    "cv=GridSearchCV(rfc,params,verbose=2)\n",
    "cv.fit(X_train,y_train)"
   ]
  },
  {
   "cell_type": "code",
   "execution_count": 120,
   "id": "37f9388c",
   "metadata": {},
   "outputs": [],
   "source": [
    "best_params=cv.best_params_"
   ]
  },
  {
   "cell_type": "code",
   "execution_count": 123,
   "id": "a99640d8",
   "metadata": {},
   "outputs": [
    {
     "data": {
      "text/plain": [
       "0.994430693069307"
      ]
     },
     "execution_count": 123,
     "metadata": {},
     "output_type": "execute_result"
    }
   ],
   "source": [
    "new_rfc=RandomForestClassifier(**best_params)\n",
    "new_rfc.fit(X_train,y_train)\n",
    "pred_rfc=new_rfc.predict(X_test)\n",
    "accuracy_score(y_test,pred_rfc)"
   ]
  },
  {
   "cell_type": "code",
   "execution_count": 122,
   "id": "dbfd7438",
   "metadata": {},
   "outputs": [],
   "source": [
    "from sklearn.metrics import ConfusionMatrixDisplay,confusion_matrix"
   ]
  },
  {
   "cell_type": "code",
   "execution_count": 124,
   "id": "3e4fbc80",
   "metadata": {},
   "outputs": [
    {
     "data": {
      "text/plain": [
       "<sklearn.metrics._plot.confusion_matrix.ConfusionMatrixDisplay at 0x2167cb822c0>"
      ]
     },
     "execution_count": 124,
     "metadata": {},
     "output_type": "execute_result"
    },
    {
     "data": {
      "image/png": "[encoded data removed]",
      "text/plain": [
       "<Figure size 432x288 with 2 Axes>"
      ]
     },
     "metadata": {
      "needs_background": "light"
     },
     "output_type": "display_data"
    }
   ],
   "source": [
    "cm=confusion_matrix(y_test,pred_rfc)\n",
    "cmd=ConfusionMatrixDisplay(cm,display_labels=['white','red'])\n",
    "cmd.plot()"
   ]
  },
  {
   "cell_type": "code",
   "execution_count": null,
   "id": "529be1ee",
   "metadata": {},
   "outputs": [],
   "source": []
  }
 ],
 "metadata": {
  "kernelspec": {
   "display_name": "Python 3 (ipykernel)",
   "language": "python",
   "name": "python3"
  },
  "language_info": {
   "codemirror_mode": {
    "name": "ipython",
    "version": 3
   },
   "file_extension": ".py",
   "mimetype": "text/x-python",
   "name": "python",
   "nbconvert_exporter": "python",
   "pygments_lexer": "ipython3",
   "version": "3.10.2"
  }
 },
 "nbformat": 4,
 "nbformat_minor": 5
}
